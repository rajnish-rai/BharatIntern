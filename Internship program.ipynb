{
 "cells": [
  {
   "cell_type": "markdown",
   "id": "af6a0801",
   "metadata": {},
   "source": [
    "# Task 1: python programming for calculator..\n"
   ]
  },
  {
   "cell_type": "code",
   "execution_count": 1,
   "id": "bfaa5c63",
   "metadata": {},
   "outputs": [],
   "source": [
    "import tkinter as tk\n",
    "\n",
    "class CalculatorApp:\n",
    "    def __init__(self, root):\n",
    "        self.root = root\n",
    "        self.root.title(\"Calculator\")\n",
    "        \n",
    "        self.result_var = tk.StringVar()\n",
    "        self.result_var.set(\"\")\n",
    "\n",
    "        self.create_ui()\n",
    "\n",
    "    def create_ui(self):\n",
    "        entry = tk.Entry(self.root, textvariable=self.result_var, font=(\"Arial\", 18), justify=\"right\")\n",
    "        entry.grid(row=0, column=0, columnspan=4)\n",
    "\n",
    "        buttons = [\n",
    "            \"7\", \"8\", \"9\", \"/\",\n",
    "            \"4\", \"5\", \"6\", \"*\",\n",
    "            \"1\", \"2\", \"3\", \"-\",\n",
    "            \"0\", \".\", \"=\", \"+\"\n",
    "        ]\n",
    "\n",
    "        row_idx = 1\n",
    "        col_idx = 0\n",
    "        for button_text in buttons:\n",
    "            tk.Button(self.root, text=button_text, padx=20, pady=20, font=(\"Arial\", 14), command=lambda text=button_text: self.on_button_click(text)).grid(row=row_idx, column=col_idx)\n",
    "            col_idx += 1\n",
    "            if col_idx > 3:\n",
    "                col_idx = 0\n",
    "                row_idx += 1\n",
    "\n",
    "    def on_button_click(self, text):\n",
    "        if text == \"=\":\n",
    "            try:\n",
    "                result = str(eval(self.result_var.get()))\n",
    "                self.result_var.set(result)\n",
    "            except:\n",
    "                self.result_var.set(\"Error\")\n",
    "        else:\n",
    "            current_text = self.result_var.get()\n",
    "            self.result_var.set(current_text + text)\n",
    "\n",
    "if __name__ == \"__main__\":\n",
    "    root = tk.Tk()\n",
    "    app = CalculatorApp(root)\n",
    "    root.mainloop()\n",
    "\n",
    "\n",
    "    \n",
    "\n",
    "\n",
    "\n"
   ]
  },
  {
   "cell_type": "code",
   "execution_count": null,
   "id": "02e1529a",
   "metadata": {},
   "outputs": [],
   "source": []
  }
 ],
 "metadata": {
  "kernelspec": {
   "display_name": "Python 3 (ipykernel)",
   "language": "python",
   "name": "python3"
  },
  "language_info": {
   "codemirror_mode": {
    "name": "ipython",
    "version": 3
   },
   "file_extension": ".py",
   "mimetype": "text/x-python",
   "name": "python",
   "nbconvert_exporter": "python",
   "pygments_lexer": "ipython3",
   "version": "3.10.9"
  }
 },
 "nbformat": 4,
 "nbformat_minor": 5
}
